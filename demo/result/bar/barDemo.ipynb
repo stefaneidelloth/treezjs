{
 "cells": [
  {
   "cell_type": "code",
   "execution_count": null,
   "metadata": {},
   "outputs": [],
   "source": [
    "%%javascript\n",
    "\n",
    "import Root from '../../../../../tree/treezjs/src/root/root.js';\n",
    "import ColumnType from '../../../../../tree/treezjs/src/data/column/columnType.js';\n",
    "import Direction from '../../../../../tree/treezjs/src/result/axis/direction.js';\n",
    "import BorderMode from '../../../../../tree/treezjs/src/result/axis/borderMode.js';\n",
    "\n",
    "window.createModel = function(){\n",
    "\n",
    "    var root = new Root();\n",
    "\n",
    "    var results = root.createResults();\n",
    "    var data = results.createData();\n",
    "    \n",
    "    var table = data.createTable();\n",
    "\n",
    "    var columns = table.createColumnFolder();\n",
    "\n",
    "    var x = columns.createColumn('x');\n",
    "    x.type = ColumnType.integer;\n",
    "\n",
    "    var y = columns.createColumn('y');\n",
    "    y.type = ColumnType.integer;\n",
    "\n",
    "    table.createRow([1, 1]);\n",
    "    table.createRow([2, 4]);\n",
    "    table.createRow([3, 6]);\n",
    "\n",
    "    var page = results.createPage();\n",
    "    var graph = page.createGraph();\n",
    "\n",
    "    var xAxis = graph.createAxis('x');\n",
    "    xAxis.data.borderMin = BorderMode.twentyFive;\n",
    "    xAxis.data.borderMax = BorderMode.twentyFive;\n",
    "\n",
    "    var yAxis = graph.createAxis('y');\n",
    "    yAxis.data.direction = Direction.vertical;\n",
    "\n",
    "    var bar = graph.createBar();\n",
    "    bar.data.barPositions = 'root.results.data.table.columns.x';\n",
    "    bar.data.barLengths = 'root.results.data.table.columns.y';\n",
    "    bar.data.horizontalAxis = 'root.results.page.graph.x';\n",
    "    bar.data.verticalAxis = 'root.results.page.graph.y';\n",
    "    bar.fill.color = '#00ff00';\n",
    "\n",
    "    return root;\n",
    "\n",
    "}"
   ]
  }
 ],
 "metadata": {
  "kernelspec": {
   "display_name": "Python 3",
   "language": "python",
   "name": "python3"
  },
  "language_info": {
   "codemirror_mode": {
    "name": "ipython",
    "version": 3
   },
   "file_extension": ".py",
   "mimetype": "text/x-python",
   "name": "python",
   "nbconvert_exporter": "python",
   "pygments_lexer": "ipython3",
   "version": "3.9.4"
  },
  "toc": {
   "base_numbering": 1,
   "nav_menu": {},
   "number_sections": true,
   "sideBar": true,
   "skip_h1_title": false,
   "title_cell": "Table of Contents",
   "title_sidebar": "Contents",
   "toc_cell": false,
   "toc_position": {},
   "toc_section_display": true,
   "toc_window_display": false
  },
  "varInspector": {
   "cols": {
    "lenName": 16,
    "lenType": 16,
    "lenVar": 40
   },
   "kernels_config": {
    "python": {
     "delete_cmd_postfix": "",
     "delete_cmd_prefix": "del ",
     "library": "var_list.py",
     "varRefreshCmd": "print(var_dic_list())"
    },
    "r": {
     "delete_cmd_postfix": ") ",
     "delete_cmd_prefix": "rm(",
     "library": "var_list.r",
     "varRefreshCmd": "cat(var_dic_list()) "
    }
   },
   "types_to_exclude": [
    "module",
    "function",
    "builtin_function_or_method",
    "instance",
    "_Feature"
   ],
   "window_display": false
  }
 },
 "nbformat": 4,
 "nbformat_minor": 4
}
