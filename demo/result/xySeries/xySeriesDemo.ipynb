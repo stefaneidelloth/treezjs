{
 "cells": [
  {
   "cell_type": "code",
   "execution_count": null,
   "metadata": {},
   "outputs": [],
   "source": [
    "%%javascript\n",
    "\n",
    "import Root from '../../../../../notebooks/treezjs/src/root/root.js';\n",
    "\n",
    "window.createModel = function(){\n",
    "\n",
    "    let root = new Root();\n",
    "\n",
    "    //#region RESULTS -----------------------------------------------------\n",
    "    let results = root.createResults();\n",
    "\n",
    "    //#region data\n",
    "\n",
    "    let data = results.createData();\n",
    "    let table = data.createTable();\n",
    "    let columns = table.createColumnFolder('columns');\n",
    "    columns.createColumn('x');\n",
    "    columns.createColumn('y1');\n",
    "    columns.createColumn('y2');\n",
    "    \n",
    "    table.createRow([0, 0, 0]);\n",
    "    table.createRow([1, 1, 10]);\n",
    "    table.createRow([2, 2, 20]);\n",
    "    table.createRow([3, 3, 30]);\n",
    "\n",
    "    //#end region\n",
    "\n",
    "    //#region page\n",
    "\n",
    "    let page = results.createPage();\n",
    "    let graph = page.createGraph();\n",
    "    let xySeries = graph.createXySeries();   \n",
    "    xySeries.sourceTable = 'root.results.data.table';\n",
    "\n",
    "    //#end region\n",
    "\n",
    "    //#end region ---------------------------------------------------------\n",
    "\n",
    "    return root;\n",
    "};"
   ]
  }
 ],
 "metadata": {
  "kernelspec": {
   "display_name": "Python 3",
   "language": "python",
   "name": "python3"
  },
  "language_info": {
   "codemirror_mode": {
    "name": "ipython",
    "version": 3
   },
   "file_extension": ".py",
   "mimetype": "text/x-python",
   "name": "python",
   "nbconvert_exporter": "python",
   "pygments_lexer": "ipython3",
   "version": "3.7.2"
  },
  "toc": {
   "base_numbering": 1,
   "nav_menu": {},
   "number_sections": true,
   "sideBar": true,
   "skip_h1_title": false,
   "title_cell": "Table of Contents",
   "title_sidebar": "Contents",
   "toc_cell": false,
   "toc_position": {},
   "toc_section_display": true,
   "toc_window_display": false
  },
  "varInspector": {
   "cols": {
    "lenName": 16,
    "lenType": 16,
    "lenVar": 40
   },
   "kernels_config": {
    "python": {
     "delete_cmd_postfix": "",
     "delete_cmd_prefix": "del ",
     "library": "var_list.py",
     "varRefreshCmd": "print(var_dic_list())"
    },
    "r": {
     "delete_cmd_postfix": ") ",
     "delete_cmd_prefix": "rm(",
     "library": "var_list.r",
     "varRefreshCmd": "cat(var_dic_list()) "
    }
   },
   "types_to_exclude": [
    "module",
    "function",
    "builtin_function_or_method",
    "instance",
    "_Feature"
   ],
   "window_display": false
  }
 },
 "nbformat": 4,
 "nbformat_minor": 2
}
