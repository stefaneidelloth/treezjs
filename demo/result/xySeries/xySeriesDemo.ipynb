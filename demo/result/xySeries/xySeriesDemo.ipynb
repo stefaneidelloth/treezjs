{
 "cells": [
  {
   "cell_type": "code",
   "execution_count": null,
   "metadata": {},
   "outputs": [],
   "source": [
    "%%javascript\n",
    "\n",
    "import Root from '../../../../../../tree/treezjs/src/root/root.js';\n",
    "import ColumnType from '../../../../../../tree/treezjs/src/data/column/columnType.js';\n",
    "import Direction from '../../../../../../tree/treezjs/src/result/axis/direction.js';\n",
    "\n",
    "window.createModel = function(){\n",
    "\n",
    "    let root = new Root();\n",
    "\n",
    "    //#region RESULTS -----------------------------------------------------\n",
    "    let results = root.createResults();\n",
    "\n",
    "    //#region data\n",
    "\n",
    "    let data = results.createData();\n",
    "    let sweepProbe = data.createSweepProbe();\n",
    "    sweepProbe.probeLabel = 'z';\n",
    "    sweepProbe.outputPath = 'root.results.data.sweepOutput';\n",
    "    sweepProbe.firstProbeTablePath = 'root.results.data.sweepOutput.output_1.tableImportOutput';\n",
    "    sweepProbe.domainRangePath = 'root.studies.sweep.xRange';\n",
    "    sweepProbe.firstFamilyLegend = 'y';\n",
    "    sweepProbe.firstFamilyRangePath = 'root.studies.sweep.yRange';\n",
    "\n",
    "    let sweepProbeTable = sweepProbe.createTable('sweepProbeTable');\n",
    "    let columns = sweepProbeTable.createColumnFolder('columns');\n",
    "    let x = columns.createColumn('x');\n",
    "    x.legend = 'x';\n",
    "    x.type = ColumnType.integer;\n",
    "\n",
    "    let z_1 = columns.createColumn('z_1');\n",
    "    //z_1.type = ColumnType.double;\n",
    "    z_1.legend = 'y: 10';\n",
    "\n",
    "    let z_2 = columns.createColumn('z_2');\n",
    "    //z_2.type = ColumnType.double;\n",
    "    z_2.legend = 'y: 20';\n",
    "\n",
    "    let z_3 = columns.createColumn('z_3');\n",
    "    //z_3.type = ColumnType.double;\n",
    "    z_3.legend = 'y: 30';\n",
    "\n",
    "    //sweepProbeTable.createRow([1, 11, 21, 31]);\n",
    "    //sweepProbeTable.createRow([2, 12, 22, 32]);\n",
    "    //sweepProbeTable.createRow([3, 13, 23, 33]);\n",
    "    \n",
    "    sweepProbeTable.createRow([1, \"11\", \"21\", \"31\"]);\n",
    "    sweepProbeTable.createRow([2, \"12\", \"22\", \"32\"]);\n",
    "    sweepProbeTable.createRow([3, \"13\", \"23\", \"33\"]);\n",
    "\n",
    "    //#end region\n",
    "\n",
    "    //#region page\n",
    "\n",
    "    let page = results.createPage();\n",
    "    let graph = page.createGraph();\n",
    "    let xAxis = graph.createAxis('x');\n",
    "    xAxis.data.label = 'x';\n",
    "    xAxis.data.min = 1;\n",
    "    xAxis.data.max = 3;\n",
    "\n",
    "    xAxis.tickLabels.tickLabelHeight = 25;\n",
    "\n",
    "    let z = graph.createAxis('z');\n",
    "    z.data.label = 'z';\n",
    "    z.data.direction = Direction.vertical;\n",
    "\n",
    "    z.tickLabels.tickLabelHeight = 25;\n",
    "    z.tickLabels.tickLabelWidth = 30.59375;\n",
    "\n",
    "    let xySeries = graph.createXySeries();\n",
    "    xySeries.sourceTable = 'root.results.data.sweepProbe.sweepProbeTable';\n",
    "    xySeries.domainLabel = 'x';\n",
    "    xySeries.rangeLabel = 'z';\n",
    "\n",
    "   \n",
    "\n",
    "    //#end region\n",
    "\n",
    "    //#end region ---------------------------------------------------------\n",
    "\n",
    "    return root;\n",
    "};"
   ]
  }
 ],
 "metadata": {
  "kernelspec": {
   "display_name": "Python 3",
   "language": "python",
   "name": "python3"
  },
  "language_info": {
   "codemirror_mode": {
    "name": "ipython",
    "version": 3
   },
   "file_extension": ".py",
   "mimetype": "text/x-python",
   "name": "python",
   "nbconvert_exporter": "python",
   "pygments_lexer": "ipython3",
   "version": "3.9.4"
  },
  "toc": {
   "base_numbering": 1,
   "nav_menu": {},
   "number_sections": true,
   "sideBar": true,
   "skip_h1_title": false,
   "title_cell": "Table of Contents",
   "title_sidebar": "Contents",
   "toc_cell": false,
   "toc_position": {},
   "toc_section_display": true,
   "toc_window_display": false
  },
  "varInspector": {
   "cols": {
    "lenName": 16,
    "lenType": 16,
    "lenVar": 40
   },
   "kernels_config": {
    "python": {
     "delete_cmd_postfix": "",
     "delete_cmd_prefix": "del ",
     "library": "var_list.py",
     "varRefreshCmd": "print(var_dic_list())"
    },
    "r": {
     "delete_cmd_postfix": ") ",
     "delete_cmd_prefix": "rm(",
     "library": "var_list.r",
     "varRefreshCmd": "cat(var_dic_list()) "
    }
   },
   "types_to_exclude": [
    "module",
    "function",
    "builtin_function_or_method",
    "instance",
    "_Feature"
   ],
   "window_display": false
  }
 },
 "nbformat": 4,
 "nbformat_minor": 4
}
