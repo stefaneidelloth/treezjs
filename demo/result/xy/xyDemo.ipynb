{
 "cells": [
  {
   "cell_type": "code",
   "execution_count": null,
   "metadata": {},
   "outputs": [],
   "source": [
    "%%javascript\n",
    "\n",
    "import Root from '../../../../../notebooks/treezjs/src/root/root.js';\n",
    "import ColumnType from '../../../../../notebooks/treezjs/src/data/column/columnType.js';\n",
    "import BorderMode from '../../../../../notebooks/treezjs/src/result/axis/borderMode.js';\n",
    "import Direction from '../../../../../notebooks/treezjs/src/result/axis/direction.js';\n",
    "import Color from '../../../../../notebooks/treezjs/src/components/color/color.js';\n",
    "import SymbolStyle from '../../../../../notebooks/treezjs/src/components/symbolStyle/symbolStyle.js';\n",
    "import LineStyle from '../../../../../notebooks/treezjs/src/components/lineStyle/lineStyle.js';\n",
    "\n",
    "window.createModel = function(){\n",
    "\n",
    "    let root = new Root();\n",
    "\n",
    "    //#region RESULTS -----------------------------------------------------\n",
    "    let results = root.createResults();\n",
    "\n",
    "    //#region data\n",
    "\n",
    "    let data = results.createData();\n",
    "    let table = data.createTable();\n",
    "    let columns = table.createColumnFolder('columns');\n",
    "    let x = columns.createColumn('x');\n",
    "    x.type = ColumnType.integer;\n",
    "\n",
    "    let y = columns.createColumn('y');\n",
    "    y.type = ColumnType.integer;\n",
    "\n",
    "    table.createRow([1, 1]);\n",
    "    table.createRow([2, 4]);\n",
    "    table.createRow([3, 6]);\n",
    "\n",
    "    //#end region\n",
    "\n",
    "    //#region page\n",
    "\n",
    "    let page = results.createPage();\n",
    "    let graph = page.createGraph();\n",
    "    let xAxis = graph.createAxis('x');  \n",
    "\n",
    "    let yAxis = graph.createAxis('y');\n",
    "    yAxis.data.direction = Direction.vertical;  \n",
    "\n",
    "    let xy = graph.createXy();\n",
    "    xy.data.xData = 'root.results.data.table.columns.x';\n",
    "    xy.data.yData = 'root.results.data.table.columns.y';\n",
    "    xy.data.xAxis = 'root.results.page.graph.x';\n",
    "    xy.data.yAxis = 'root.results.page.graph.y';\n",
    "   \n",
    "  \n",
    "    //#end region\n",
    "\n",
    "    //#end region ---------------------------------------------------------\n",
    "\n",
    "    return root;\n",
    "};"
   ]
  }
 ],
 "metadata": {
  "kernelspec": {
   "display_name": "Python 3",
   "language": "python",
   "name": "python3"
  },
  "language_info": {
   "codemirror_mode": {
    "name": "ipython",
    "version": 3
   },
   "file_extension": ".py",
   "mimetype": "text/x-python",
   "name": "python",
   "nbconvert_exporter": "python",
   "pygments_lexer": "ipython3",
   "version": "3.7.2"
  },
  "toc": {
   "base_numbering": 1,
   "nav_menu": {},
   "number_sections": true,
   "sideBar": true,
   "skip_h1_title": false,
   "title_cell": "Table of Contents",
   "title_sidebar": "Contents",
   "toc_cell": false,
   "toc_position": {},
   "toc_section_display": true,
   "toc_window_display": false
  },
  "varInspector": {
   "cols": {
    "lenName": 16,
    "lenType": 16,
    "lenVar": 40
   },
   "kernels_config": {
    "python": {
     "delete_cmd_postfix": "",
     "delete_cmd_prefix": "del ",
     "library": "var_list.py",
     "varRefreshCmd": "print(var_dic_list())"
    },
    "r": {
     "delete_cmd_postfix": ") ",
     "delete_cmd_prefix": "rm(",
     "library": "var_list.r",
     "varRefreshCmd": "cat(var_dic_list()) "
    }
   },
   "types_to_exclude": [
    "module",
    "function",
    "builtin_function_or_method",
    "instance",
    "_Feature"
   ],
   "window_display": false
  }
 },
 "nbformat": 4,
 "nbformat_minor": 2
}
