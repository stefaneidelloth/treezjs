{
 "cells": [
  {
   "cell_type": "code",
   "execution_count": null,
   "metadata": {},
   "outputs": [],
   "source": [
    "%%javascript\n",
    "\n",
    "import Root from '../../../../../notebooks/treezjs/src/root/root.js';\n",
    "import ColumnType from '../../../../../notebooks/treezjs/src/data/column/columnType.js';\n",
    "import BorderMode from '../../../../../notebooks/treezjs/src/result/axis/borderMode.js';\n",
    "import AxisMode from '../../../../../notebooks/treezjs/src/result/axis/axisMode.js';\n",
    "import Direction from '../../../../../notebooks/treezjs/src/result/axis/direction.js';\n",
    "import DataMode from '../../../../../notebooks/treezjs/src/result/tornado/dataMode.js';\n",
    "\n",
    "window.createModel = function(){\n",
    "\n",
    "    let root = new Root();\n",
    "\n",
    "    //#region RESULTS -----------------------------------------------------\n",
    "    let results = root.createResults();\n",
    "\n",
    "    //#region data\n",
    "\n",
    "    let data = results.createData();\n",
    "    let table = data.createTable();\n",
    "    let columns = table.createColumnFolder('columns');\n",
    "    columns.createColumn('label');\n",
    "    columns.createColumn('input_base', ColumnType.integer);\n",
    "    columns.createColumn('input_left', ColumnType.integer);\n",
    "    columns.createColumn('input_right', ColumnType.integer);\n",
    "    columns.createColumn('output_base', ColumnType.integer);\n",
    "    columns.createColumn('output_left', ColumnType.integer);\n",
    "    columns.createColumn('output_right', ColumnType.integer);\n",
    "\n",
    "    table.createRow([\"a\", 100, 90, 110, 10, 9, 11]);\n",
    "    table.createRow([\"b\", 20, 18, 22, 10, 8, 12]);\n",
    "    table.createRow([\"c\", 300, 270, 330, 10, 7, 13]);\n",
    "\n",
    "    //#end region\n",
    "\n",
    "    //#region page\n",
    "\n",
    "    let page = results.createPage();\n",
    "    let graph = page.createGraph();\n",
    "    let x = graph.createAxis('x');\n",
    "    x.data.borderMin = BorderMode.twentyFive;\n",
    "    x.data.borderMax = BorderMode.twentyFive;\n",
    "\n",
    "    x.tickLabels.format = 'f';\n",
    "    x.tickLabels.tickLabelHeight = 25;\n",
    "\n",
    "    let y = graph.createAxis('y');\n",
    "    y.data.mode = AxisMode.ordinal;\n",
    "    y.data.direction = Direction.vertical;\n",
    "\n",
    "    y.tickLabels.tickLabelWidth = 30.59375;\n",
    "\n",
    "    let tornado = graph.createTornado();\n",
    "    tornado.data.dataMode = DataMode.individualColumns;\n",
    "    tornado.data.tablePath = 'root.results.data.table';\n",
    "    tornado.data.inputBase = 'root.results.data.table.columns.input_base';\n",
    "    tornado.data.inputLabel = 'root.results.data.table.columns.label';\n",
    "    tornado.data.inputLeft = 'root.results.data.table.columns.input_left';\n",
    "    tornado.data.inputRight = 'root.results.data.table.columns.input_right';\n",
    "    tornado.data.inputUnit = null;\n",
    "    tornado.data.outputBase = 'root.results.data.table.columns.output_base';\n",
    "    tornado.data.outputLeft = 'root.results.data.table.columns.output_left';\n",
    "    tornado.data.outputRight = 'root.results.data.table.columns.output_right';\n",
    "\n",
    "    //#end region\n",
    "\n",
    "    //#end region ---------------------------------------------------------\n",
    "\n",
    "    return root;\n",
    "};"
   ]
  }
 ],
 "metadata": {
  "kernelspec": {
   "display_name": "Python 3",
   "language": "python",
   "name": "python3"
  },
  "language_info": {
   "codemirror_mode": {
    "name": "ipython",
    "version": 3
   },
   "file_extension": ".py",
   "mimetype": "text/x-python",
   "name": "python",
   "nbconvert_exporter": "python",
   "pygments_lexer": "ipython3",
   "version": "3.7.2"
  },
  "toc": {
   "base_numbering": 1,
   "nav_menu": {},
   "number_sections": true,
   "sideBar": true,
   "skip_h1_title": false,
   "title_cell": "Table of Contents",
   "title_sidebar": "Contents",
   "toc_cell": false,
   "toc_position": {},
   "toc_section_display": true,
   "toc_window_display": false
  },
  "varInspector": {
   "cols": {
    "lenName": 16,
    "lenType": 16,
    "lenVar": 40
   },
   "kernels_config": {
    "python": {
     "delete_cmd_postfix": "",
     "delete_cmd_prefix": "del ",
     "library": "var_list.py",
     "varRefreshCmd": "print(var_dic_list())"
    },
    "r": {
     "delete_cmd_postfix": ") ",
     "delete_cmd_prefix": "rm(",
     "library": "var_list.r",
     "varRefreshCmd": "cat(var_dic_list()) "
    }
   },
   "types_to_exclude": [
    "module",
    "function",
    "builtin_function_or_method",
    "instance",
    "_Feature"
   ],
   "window_display": false
  }
 },
 "nbformat": 4,
 "nbformat_minor": 2
}
