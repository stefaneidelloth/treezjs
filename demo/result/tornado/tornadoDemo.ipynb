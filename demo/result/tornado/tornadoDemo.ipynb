{
 "cells": [
  {
   "cell_type": "code",
   "execution_count": null,
   "metadata": {},
   "outputs": [],
   "source": [
    "%%javascript\n",
    "\n",
    "import Root from '../../../../../notebooks/treezjs/src/root/root.js';\n",
    "import ColumnType from '../../../../../notebooks/treezjs/src/data/column/columnType.js';\n",
    "import Direction from '../../../../../notebooks/treezjs/src/result/axis/direction.js';\n",
    "import BorderMode from '../../../../../notebooks/treezjs/src/result/axis/borderMode.js';\n",
    "\n",
    "window.createModel = function(){\n",
    "\n",
    "    var root = new Root();\n",
    "\n",
    "    var results = root.createResults();\n",
    "    var data = results.createData();\n",
    "    \n",
    "    var table = data.createTable();\n",
    "\n",
    "    var columns = table.createColumnFolder();\n",
    "    \n",
    "    var label = columns.createColumn('label');\n",
    "   \n",
    "    var input_base = columns.createColumn('input_base');\n",
    "    input_base.type = ColumnType.integer;\n",
    "    \n",
    "    var input_left = columns.createColumn('input_left');\n",
    "    input_left.type = ColumnType.integer;\n",
    "    \n",
    "    var input_right = columns.createColumn('input_right');\n",
    "    input_right.type = ColumnType.integer;\n",
    "\n",
    "    var output_base = columns.createColumn('output_base');\n",
    "    output_base.type = ColumnType.integer;\n",
    "    \n",
    "    var output_left = columns.createColumn('output_left');\n",
    "    output_left.type = ColumnType.integer;\n",
    "    \n",
    "    var output_right = columns.createColumn('output_right');\n",
    "    output_right.type = ColumnType.integer;\n",
    "\n",
    "    table.createRow(['a', 100, 90, 110, 10, 9, 11]);\n",
    "    table.createRow(['b', 20, 18, 22, 10, 8, 12]);\n",
    "    table.createRow(['c', 300, 270, 330, 10, 7, 13]);\n",
    "\n",
    "\n",
    "    var page = results.createPage();\n",
    "    var graph = page.createGraph();\n",
    "\n",
    "    var xAxis = graph.createAxis('x');\n",
    "    xAxis.data.borderMin = BorderMode.twentyFive;\n",
    "    xAxis.data.borderMax = BorderMode.twentyFive;\n",
    "\n",
    "    var yAxis = graph.createAxis('y');\n",
    "    yAxis.data.direction = Direction.vertical;\n",
    "\n",
    "    var tornado = graph.createTornado();\n",
    "    tornado.data.tablePath = 'root.results.data.table';\n",
    "    \n",
    "    tornado.data.inputBase = 'root.results.data.table.columns.input_base';\n",
    "    tornado.data.inputLeft = 'root.results.data.table.columns.input_left';\n",
    "    tornado.data.inputRight = 'root.results.data.table.columns.input_right';\n",
    "    \n",
    "     tornado.data.outputBase = 'root.results.data.table.columns.output_base';\n",
    "    tornado.data.outputLeft = 'root.results.data.table.columns.output_left';\n",
    "    tornado.data.outputRight = 'root.results.data.table.columns.output_right';\n",
    "    \n",
    "\n",
    "    return root;\n",
    "\n",
    "}"
   ]
  }
 ],
 "metadata": {
  "kernelspec": {
   "display_name": "Python 3",
   "language": "python",
   "name": "python3"
  },
  "language_info": {
   "codemirror_mode": {
    "name": "ipython",
    "version": 3
   },
   "file_extension": ".py",
   "mimetype": "text/x-python",
   "name": "python",
   "nbconvert_exporter": "python",
   "pygments_lexer": "ipython3",
   "version": "3.7.2"
  },
  "toc": {
   "base_numbering": 1,
   "nav_menu": {},
   "number_sections": true,
   "sideBar": true,
   "skip_h1_title": false,
   "title_cell": "Table of Contents",
   "title_sidebar": "Contents",
   "toc_cell": false,
   "toc_position": {},
   "toc_section_display": true,
   "toc_window_display": false
  },
  "varInspector": {
   "cols": {
    "lenName": 16,
    "lenType": 16,
    "lenVar": 40
   },
   "kernels_config": {
    "python": {
     "delete_cmd_postfix": "",
     "delete_cmd_prefix": "del ",
     "library": "var_list.py",
     "varRefreshCmd": "print(var_dic_list())"
    },
    "r": {
     "delete_cmd_postfix": ") ",
     "delete_cmd_prefix": "rm(",
     "library": "var_list.r",
     "varRefreshCmd": "cat(var_dic_list()) "
    }
   },
   "types_to_exclude": [
    "module",
    "function",
    "builtin_function_or_method",
    "instance",
    "_Feature"
   ],
   "window_display": false
  }
 },
 "nbformat": 4,
 "nbformat_minor": 2
}
