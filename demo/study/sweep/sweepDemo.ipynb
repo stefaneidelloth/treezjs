{
 "cells": [
  {
   "cell_type": "code",
   "execution_count": null,
   "metadata": {},
   "outputs": [],
   "source": [
    "%%javascript\n",
    "\n",
    "import Root from './treezjs/src/root/root.js';\n",
    "import TableSourceType from '../notebooks/treezjs/src/data/table/tableSourceType.js';\n",
    "import Direction from './treezjs/src/result/axis/direction.js';\n",
    "\n",
    "window.createModel = function(){\n",
    "\n",
    "    var root = new Root();\n",
    "\n",
    "    //models---------------------------------------------------------\n",
    "    var models = root.createModels();\n",
    "\n",
    "    var path = models.createPath();\n",
    "    path.createDirectoryPathVariable('workingDirectory', 'D:/Sensitivity/trunk/forecast');\n",
    "    path.createDirectoryPathVariable('forecastPath', 'D:/forecast4');\n",
    "    path.createDirectoryPathVariable('projectPath', '{$forecastPath$}/trunk/databases/Demo');\n",
    "    path.createFilePathVariable('inputFilePath', '{$projectPath$}/demo_default_project.xml');\n",
    " \n",
    "    var genericInput = models.createGenericInput();    \n",
    "    genericInput.createIntegerVariable('HowEasy',1); \n",
    "    \n",
    "    var databaseModifier = models.createDatabaseModifier();\n",
    "    databaseModifier.targetFilePath =  '{$projectPath$}/demo.sqlite';\n",
    "    databaseModifier.code = \"UPDATE 'ScenarioData_AddTo_Base' SET 'Y2000' = {$HowEasy$}\";\n",
    "\n",
    "    var inputFileGenerator = models.createInputFileGenerator();\n",
    "    inputFileGenerator.templatePath = '{$projectPath$}/template.xml';        \n",
    "    inputFileGenerator.inputFilePath = '{$inputFilePath$}';\n",
    "    inputFileGenerator.valueExpression='<value>';\n",
    "       \n",
    "    var executable = models.createExecutable();\n",
    "    executable.executablePath = '{$forecastPath$}/trunk/source/Model/bin/Debug/Model.exe';    \n",
    "    executable.inputArguments = '-path';\n",
    "    executable.inputPath = '{$inputFilePath$}';\n",
    "   \n",
    "    var tableImport = models.createTableImport();\n",
    "    tableImport.resultTableModelPath = 'root.results.data.table';\n",
    "    tableImport.type = TableSourceType.sqLite;\n",
    "    tableImport.tableName = 'Calculated_ModelParameter_TimeSeries_Result';\n",
    "    tableImport.filePath = '{$projectPath$}/demo.sqlite';\n",
    "    \n",
    "    //var sqLiteAppender = executable.createSqLiteAppender();\n",
    "    //sqLiteAppender.sourceFilePath = projectPath + '/demo_results.sqlite';\n",
    "    //sqLiteAppender.targetFilePath = projectPath + '/demo_study_results.sqlite';\n",
    "    \n",
    "\n",
    "\n",
    "    //studies------------------------------------------------------------\n",
    "    var studies = root.createStudies();\n",
    "\n",
    "    //sweep\n",
    "    var sweep = studies.createSweep();\n",
    "    sweep.id = 'mystudyId';\n",
    "    sweep.description = 'myStudyDescription';\n",
    "    sweep.controlledModelPath = 'root.models';\n",
    "    sweep.sourceModelPath = 'root.models.genericInput';\n",
    "\n",
    "    var firstRange = sweep.createIntegerRange('firstRange');        \n",
    "    firstRange.variablePath = 'root.models.genericInput.HowEasy';\n",
    "    firstRange.values = [1,2,3];\n",
    "    \n",
    "    var pythonExport = sweep.createPythonExport();\n",
    "\n",
    "    //results------------------------------------------------------------\n",
    "    var results = root.createResults();    \n",
    "    var data = results.createData();    \n",
    "    var sweepProbe = data.createSweepProbe();\n",
    "    sweepProbe.outputPath = 'root.results.data.sweepOutput';\n",
    "    sweepProbe.firstProbeTablePath = sweepProbe.outputPath + '.output_1.executable.tableImportOutput';\n",
    "    sweepProbe.columnIndex = 11;\n",
    "    sweepProbe.rowIndex = 1;\n",
    "\n",
    "    var page = results.createPage();\n",
    "    var graph = page.createGraph();\n",
    "    graph.border.isHidden=true;\n",
    "\n",
    "    var xAxis = graph.createAxis('x');\n",
    "    xAxis.data.label='x';    \n",
    "\n",
    "    var yAxis = graph.createAxis('y');\n",
    "    yAxis.data.label='y';\n",
    "    yAxis.data.direction = Direction.vertical;\n",
    "\n",
    "    var xy = graph.createXy();\n",
    "    xy.data.xData = 'root.results.data.sweepProbe.sweepProbeTable.columns.x';\n",
    "    xy.data.yData = 'root.results.data.sweepProbe.sweepProbeTable.columns.y';\n",
    "\n",
    "    xy.data.xAxis = 'root.results.page.graph.x';\n",
    "    xy.data.yAxis = 'root.results.page.graph.y';\n",
    "\n",
    "    return root;            \n",
    "};\n"
   ]
  },
  {
   "cell_type": "code",
   "execution_count": 9,
   "metadata": {},
   "outputs": [
    {
     "data": {
      "text/plain": [
       "',x,y\\r\\n0,1,10\\r\\n1,2,20\\r\\n'"
      ]
     },
     "execution_count": 9,
     "metadata": {},
     "output_type": "execute_result"
    }
   ],
   "source": [
    "import pandas\n",
    "\n",
    "df = pandas.DataFrame({'x':[1,2],'y':[10,20]})\n",
    "df.to_csv()"
   ]
  },
  {
   "cell_type": "code",
   "execution_count": null,
   "metadata": {},
   "outputs": [],
   "source": []
  }
 ],
 "metadata": {
  "kernelspec": {
   "display_name": "Python 3",
   "language": "python",
   "name": "python3"
  },
  "language_info": {
   "codemirror_mode": {
    "name": "ipython",
    "version": 3
   },
   "file_extension": ".py",
   "mimetype": "text/x-python",
   "name": "python",
   "nbconvert_exporter": "python",
   "pygments_lexer": "ipython3",
   "version": "3.7.2"
  },
  "toc": {
   "base_numbering": 1,
   "nav_menu": {},
   "number_sections": true,
   "sideBar": true,
   "skip_h1_title": false,
   "title_cell": "Table of Contents",
   "title_sidebar": "Contents",
   "toc_cell": false,
   "toc_position": {},
   "toc_section_display": true,
   "toc_window_display": false
  },
  "varInspector": {
   "cols": {
    "lenName": 16,
    "lenType": 16,
    "lenVar": 40
   },
   "kernels_config": {
    "python": {
     "delete_cmd_postfix": "",
     "delete_cmd_prefix": "del ",
     "library": "var_list.py",
     "varRefreshCmd": "print(var_dic_list())"
    },
    "r": {
     "delete_cmd_postfix": ") ",
     "delete_cmd_prefix": "rm(",
     "library": "var_list.r",
     "varRefreshCmd": "cat(var_dic_list()) "
    }
   },
   "types_to_exclude": [
    "module",
    "function",
    "builtin_function_or_method",
    "instance",
    "_Feature"
   ],
   "window_display": false
  }
 },
 "nbformat": 4,
 "nbformat_minor": 2
}
