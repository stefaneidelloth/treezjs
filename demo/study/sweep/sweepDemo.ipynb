{
 "cells": [
  {
   "cell_type": "code",
   "execution_count": null,
   "metadata": {},
   "outputs": [],
   "source": [
    "%%javascript\n",
    "\n",
    "import Root from '../../../../../notebooks/treezjs/src/root/root.js';\n",
    "\n",
    "window.createModel = function(){\n",
    "\n",
    "    let root = new Root();\n",
    "\n",
    "    //#region MODELS ------------------------------------------------------\n",
    "    let models = root.createModels();\n",
    "    models._studyId = 'mystudyId';\n",
    "\n",
    "\n",
    "    //#region path\n",
    "\n",
    "    let path = models.createPath();\n",
    "    path._studyId = 'mystudyId';\n",
    "\n",
    "    path.createDirectoryPathVariable('workingDir', '../..');\n",
    "\n",
    "    //#end region\n",
    "\n",
    "    //#region genericInput\n",
    "\n",
    "    let genericInput = models.createGenericInput();\n",
    "    genericInput._studyId = 'mystudyId';\n",
    "\n",
    "    genericInput.createIntegerVariable('x', 1);\n",
    "    genericInput.createIntegerVariable('y', 10);\n",
    "\n",
    "    //#end region\n",
    "\n",
    "    //#region inputFileGenerator\n",
    "\n",
    "    let inputFileGenerator = models.createInputFileGenerator();\n",
    "    inputFileGenerator.templatePath = '{$workingDir$}/template.txt';\n",
    "    inputFileGenerator.valueExpression = '<value>';\n",
    "    inputFileGenerator.inputFilePath = '{$workingDir$}/input.txt';\n",
    "    inputFileGenerator._studyId = 'mystudyId';\n",
    "\n",
    "    //#end region\n",
    "\n",
    "    //#region executable\n",
    "\n",
    "    let executable = models.createExecutable();\n",
    "    executable.executablePath = '{$workingDir$}/executable.bat';\n",
    "    executable.inputPath = '{$workingDir$}/input.txt';\n",
    "    executable.outputPath = '{$workingDir$}/output.txt';\n",
    "    executable._studyId = 'mystudyId';\n",
    "\n",
    "    //#end region\n",
    "\n",
    "    //#end region ---------------------------------------------------------\n",
    "\n",
    "    //#region STUDIES -----------------------------------------------------\n",
    "    let studies = root.createStudies();\n",
    "\n",
    "    //#region sweep\n",
    "\n",
    "    let sweep = studies.createSweep();\n",
    "    sweep.id = 'mystudyId';\n",
    "    sweep.description = 'myStudyDescription';\n",
    "    sweep.controlledModelPath = 'root.models';\n",
    "    sweep.sourceModelPath = 'root.models.genericInput';\n",
    "\n",
    "    let xRange = sweep.createIntegerRange('xRange', [1, 2, 3]);\n",
    "    xRange.variablePath = 'root.models.genericInput.x';\n",
    "\n",
    "    let yRange = sweep.createIntegerRange('yRange', [10, 20, 30]);\n",
    "    yRange.variablePath = 'root.models.genericInput.y';\n",
    "\n",
    "    //#end region\n",
    "\n",
    "    //#end region ---------------------------------------------------------\n",
    "\n",
    "    //#region RESULTS -----------------------------------------------------\n",
    "    let results = root.createResults();\n",
    "\n",
    "    //#region data\n",
    "\n",
    "    let data = results.createData();\n",
    "    data.createSweepOutput();\n",
    "\n",
    "    //#end region\n",
    "\n",
    "    //#end region ---------------------------------------------------------\n",
    "\n",
    "    return root;\n",
    "};"
   ]
  },
  {
   "cell_type": "code",
   "execution_count": 36,
   "metadata": {},
   "outputs": [
    {
     "name": "stdout",
     "output_type": "stream",
     "text": [
      "\n",
      "C:\\EclipsePython\\workspace\\treezjs\\demo\\study\\sweep>REM @echo off \n",
      "\n",
      "C:\\EclipsePython\\workspace\\treezjs\\demo\\study\\sweep>REM read command line arguments and assign them to variables \n",
      "\n",
      "C:\\EclipsePython\\workspace\\treezjs\\demo\\study\\sweep>set inputFile=..\\..\\input.txt \n",
      "\n",
      "C:\\EclipsePython\\workspace\\treezjs\\demo\\study\\sweep>set outputFile=..\\..\\output.txt \n",
      "\n",
      "C:\\EclipsePython\\workspace\\treezjs\\demo\\study\\sweep>REM read input file and add numbers \n",
      "\n",
      "C:\\EclipsePython\\workspace\\treezjs\\demo\\study\\sweep>set sum=0 \n",
      "\n",
      "C:\\EclipsePython\\workspace\\treezjs\\demo\\study\\sweep>for /F \"delims=\" %x in (..\\..\\input.txt) do set /a \"sum=sum+%x\" \n",
      "\n",
      "C:\\EclipsePython\\workspace\\treezjs\\demo\\study\\sweep>set /a \"sum=sum+1\" \n",
      "\n",
      "C:\\EclipsePython\\workspace\\treezjs\\demo\\study\\sweep>set /a \"sum=sum+10\" \n",
      "\n",
      "C:\\EclipsePython\\workspace\\treezjs\\demo\\study\\sweep>REM write sum to output file \n",
      "\n",
      "C:\\EclipsePython\\workspace\\treezjs\\demo\\study\\sweep>echo z 1>..\\..\\output.txt \n",
      "\n",
      "C:\\EclipsePython\\workspace\\treezjs\\demo\\study\\sweep>echo 11 1>>..\\..\\output.txt \n"
     ]
    }
   ],
   "source": [
    "# -*- coding: utf-8 -*-\n",
    "from subprocess import Popen, PIPE, CalledProcessError\n",
    "with Popen('\"..\\..\\executable.bat\" ..\\..\\input.txt ..\\..\\output.txt', stdout=PIPE, bufsize=1, shell=True, encoding=\"utf8\") as process:\n",
    "    for line in process.stdout:\n",
    "        print(line, end=\"\")\n",
    "if process.returncode != 0:\n",
    "    raise CalledProcessError(process.returncode, process.args)"
   ]
  },
  {
   "cell_type": "code",
   "execution_count": null,
   "metadata": {},
   "outputs": [],
   "source": []
  }
 ],
 "metadata": {
  "kernelspec": {
   "display_name": "Python 3",
   "language": "python",
   "name": "python3"
  },
  "language_info": {
   "codemirror_mode": {
    "name": "ipython",
    "version": 3
   },
   "file_extension": ".py",
   "mimetype": "text/x-python",
   "name": "python",
   "nbconvert_exporter": "python",
   "pygments_lexer": "ipython3",
   "version": "3.9.0rc1"
  },
  "toc": {
   "base_numbering": 1,
   "nav_menu": {},
   "number_sections": true,
   "sideBar": true,
   "skip_h1_title": false,
   "title_cell": "Table of Contents",
   "title_sidebar": "Contents",
   "toc_cell": false,
   "toc_position": {},
   "toc_section_display": true,
   "toc_window_display": false
  },
  "varInspector": {
   "cols": {
    "lenName": 16,
    "lenType": 16,
    "lenVar": 40
   },
   "kernels_config": {
    "python": {
     "delete_cmd_postfix": "",
     "delete_cmd_prefix": "del ",
     "library": "var_list.py",
     "varRefreshCmd": "print(var_dic_list())"
    },
    "r": {
     "delete_cmd_postfix": ") ",
     "delete_cmd_prefix": "rm(",
     "library": "var_list.r",
     "varRefreshCmd": "cat(var_dic_list()) "
    }
   },
   "types_to_exclude": [
    "module",
    "function",
    "builtin_function_or_method",
    "instance",
    "_Feature"
   ],
   "window_display": false
  }
 },
 "nbformat": 4,
 "nbformat_minor": 4
}
