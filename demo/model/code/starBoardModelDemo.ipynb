{
 "cells": [
  {
   "cell_type": "code",
   "execution_count": 10,
   "metadata": {},
   "outputs": [
    {
     "data": {
      "application/javascript": [
       "import Root from '../../../../../tree/treezjs/src/root/root.js';\n",
       "\n",
       "window.createModel = function(){\n",
       "\n",
       "    let root = new Root();\n",
       "\n",
       "    //#region MODELS ------------------------------------------------------\n",
       "    let models = root.createModels();\n",
       "\n",
       "    //#region genericInput\n",
       "\n",
       "    let genericInput = models.createGenericInput();\n",
       "    genericInput.createStringVariable('message', 'Hello World!');\n",
       "\n",
       "    //#end region\n",
       "\n",
       "    //#region javaSriptModel\n",
       "\n",
       "    let javaSriptModel = models.createJavaScriptModel('javaSriptModel');\n",
       "    javaSriptModel.code = \"alert('{$message$}');\";\n",
       "\n",
       "    //#end region\n",
       "\n",
       "    //#end region ---------------------------------------------------------\n",
       "    let a =3;\n",
       "    \n",
       "    \n",
       "        \n",
       "    return root;\n",
       "    \n",
       "};\n"
      ],
      "text/plain": [
       "<IPython.core.display.Javascript object>"
      ]
     },
     "metadata": {},
     "output_type": "display_data"
    }
   ],
   "source": [
    "%%javascript\n",
    "import Root from '../../../../../../tree/treezjs/src/root/root.js';\n",
    "\n",
    "window.createModel = function(){\n",
    "\n",
    "    let root = new Root();\n",
    "\n",
    "    //#region MODELS ------------------------------------------------------\n",
    "    let models = root.createModels();\n",
    "\n",
    "    //#region genericInput\n",
    "\n",
    "    let genericInput = models.createGenericInput();\n",
    "    genericInput.createStringVariable('message', 'Hello World!');\n",
    "\n",
    "    //#end region\n",
    "\n",
    "    //#region javaSriptModel\n",
    "\n",
    "    let starBoardModel = models.createStarBoardModel('starBoardModel');\n",
    "    starBoardModel.code =   '# %%--- [esm]\\n' +\n",
    "                            '# properties:\\n' +\n",
    "                            '#   run_on_load: true\\n' +\n",
    "                            '#   collapsed: true\\n' +\n",
    "                            '# ---%%\\n' +\n",
    "                            'import {plugin} from \"https://cdn.skypack.dev/starboard-observable@0.1.6\";\\n' +\n",
    "                            'runtime.controls.registerPlugin(plugin);\\n' +\n",
    "                            '# %% [observable]\\n' +                           \n",
    "                            'a=1';\n",
    "\n",
    "    //#end region\n",
    "\n",
    "    //#end region ---------------------------------------------------------\n",
    "    let a =3;\n",
    "    \n",
    "    \n",
    "        \n",
    "    return root;\n",
    "    \n",
    "};"
   ]
  }
 ],
 "metadata": {
  "kernelspec": {
   "display_name": "Python 3",
   "language": "python",
   "name": "python3"
  },
  "language_info": {
   "codemirror_mode": {
    "name": "ipython",
    "version": 3
   },
   "file_extension": ".py",
   "mimetype": "text/x-python",
   "name": "python",
   "nbconvert_exporter": "python",
   "pygments_lexer": "ipython3",
   "version": "3.9.4"
  },
  "toc": {
   "base_numbering": 1,
   "nav_menu": {},
   "number_sections": true,
   "sideBar": true,
   "skip_h1_title": false,
   "title_cell": "Table of Contents",
   "title_sidebar": "Contents",
   "toc_cell": false,
   "toc_position": {},
   "toc_section_display": true,
   "toc_window_display": false
  },
  "varInspector": {
   "cols": {
    "lenName": 16,
    "lenType": 16,
    "lenVar": 40
   },
   "kernels_config": {
    "python": {
     "delete_cmd_postfix": "",
     "delete_cmd_prefix": "del ",
     "library": "var_list.py",
     "varRefreshCmd": "print(var_dic_list())"
    },
    "r": {
     "delete_cmd_postfix": ") ",
     "delete_cmd_prefix": "rm(",
     "library": "var_list.r",
     "varRefreshCmd": "cat(var_dic_list()) "
    }
   },
   "types_to_exclude": [
    "module",
    "function",
    "builtin_function_or_method",
    "instance",
    "_Feature"
   ],
   "window_display": false
  }
 },
 "nbformat": 4,
 "nbformat_minor": 4
}
