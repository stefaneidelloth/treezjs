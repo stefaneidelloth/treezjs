{
 "cells": [
  {
   "cell_type": "code",
   "execution_count": null,
   "metadata": {},
   "outputs": [],
   "source": [
    "%%javascript\n",
    "\n",
    "import Root from '../files/treezjs/src/root/root.js';\n",
    "\n",
    "window.createModel = function(){\n",
    "\n",
    "    let root = new Root();\n",
    "\n",
    "    //#region RESULTS -----------------------------------------------------\n",
    "    let results = root.createResults();\n",
    "\n",
    "    //#region data\n",
    "\n",
    "    let data = results.createData();\n",
    "    let table = data.createTable();\n",
    "    let tableSource = table.createTableSource();\n",
    "    tableSource.filePath = 'treezjs/demo/demo.sqlite';\n",
    "    tableSource.tableName = 'example';\n",
    "\n",
    "    //#end region\n",
    "\n",
    "    //#end region ---------------------------------------------------------\n",
    "\n",
    "    return root;\n",
    "};"
   ]
  }
 ],
 "metadata": {
  "kernelspec": {
   "display_name": "Python 3",
   "language": "python",
   "name": "python3"
  },
  "language_info": {
   "codemirror_mode": {
    "name": "ipython",
    "version": 3
   },
   "file_extension": ".py",
   "mimetype": "text/x-python",
   "name": "python",
   "nbconvert_exporter": "python",
   "pygments_lexer": "ipython3",
   "version": "3.9.0rc1"
  }
 },
 "nbformat": 4,
 "nbformat_minor": 4
}
