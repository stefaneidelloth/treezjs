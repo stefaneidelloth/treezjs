{
 "cells": [
  {
   "cell_type": "code",
   "execution_count": null,
   "metadata": {},
   "outputs": [],
   "source": [
    "%%javascript\n",
    "\n",
    "import Root from  '../../../../../notebooks/treezjs/src/root/root.js';\n",
    "import ColumnType from '../../../../../notebooks/treezjs/src/data/column/columnType.js';\n",
    "import TableSourceType from '../../../../../notebooks/treezjs/src/data/table/tableSourceType.js';\n",
    "\n",
    "window.createModel = function(){\n",
    "\n",
    "    var root = new Root();\n",
    "\n",
    "\tvar results = root.createResults();\n",
    "\tvar data = results.createData();\n",
    "\tvar table = data.createTable();\n",
    "\n",
    "\tvar tableSource = table.createTableSource();\n",
    "\ttableSource.type = TableSourceType.sqLite;\n",
    "\t\n",
    "\tvar treezExamplePath = 'D:/EclipseJava/workspaceTreez/TreezExamples';\n",
    "\tvar sqLitePath = treezExamplePath + '/resources/example.sqlite';\n",
    "\t\t\n",
    "\ttableSource.filePath = sqLitePath;\n",
    "\ttableSource.tableName = 'example';\n",
    "\n",
    "\treturn root;\n",
    "\t\n",
    "}"
   ]
  }
 ],
 "metadata": {
  "kernelspec": {
   "display_name": "Python 3",
   "language": "python",
   "name": "python3"
  },
  "language_info": {
   "codemirror_mode": {
    "name": "ipython",
    "version": 3
   },
   "file_extension": ".py",
   "mimetype": "text/x-python",
   "name": "python",
   "nbconvert_exporter": "python",
   "pygments_lexer": "ipython3",
   "version": "3.9.0rc1"
  }
 },
 "nbformat": 4,
 "nbformat_minor": 4
}
