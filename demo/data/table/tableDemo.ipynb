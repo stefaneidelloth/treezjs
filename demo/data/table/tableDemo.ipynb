{
 "cells": [
  {
   "cell_type": "code",
   "execution_count": null,
   "metadata": {},
   "outputs": [],
   "source": [
    "%%javascript\n",
    "\n",
    "import Root from '../../../../../notebooks/treezjs/src/root/root.js';\n",
    "import ColumnType from '../../../../../notebooks/treezjs/src/data/column/columnType.js';\n",
    "\n",
    "window.createModel = function(){\n",
    "\n",
    "    var root = new Root('root');\n",
    "\n",
    "    //#region RESULTS -----------------------------------------------------\n",
    "    var results = root.createResults('results');\n",
    "\n",
    "    //#region data\n",
    "\n",
    "    var data = results.createData('data');\n",
    "    var table = data.createTable('table');\n",
    "      \n",
    "    var columns = table.createColumnFolder();\n",
    "\n",
    "    var x_base = columns.createColumn('x_base');\n",
    "    x_base.type = ColumnType.integer;\n",
    "    \n",
    "    var x_left = columns.createColumn('x_left');\n",
    "    x_left.type = ColumnType.integer;\n",
    "    \n",
    "    var x_right = columns.createColumn('x_right');\n",
    "    x_right.type = ColumnType.integer;\n",
    "\n",
    "    var y_base = columns.createColumn('y_base');\n",
    "    y_base.type = ColumnType.integer;\n",
    "    \n",
    "    var y_left = columns.createColumn('y_left');\n",
    "    y_left.type = ColumnType.integer;\n",
    "    \n",
    "    var y_right = columns.createColumn('y_right');\n",
    "    y_right.type = ColumnType.integer;\n",
    "\n",
    "    table.createRow([100, 90, 110, 10, 9, 11]);\n",
    "    table.createRow([200, 180, 220, 20, 18, 22]);\n",
    "    table.createRow([300, 270, 330, 30, 27, 33]);\n",
    "\n",
    "    //#end region\n",
    "\n",
    "    //#end region ---------------------------------------------------------\n",
    "\n",
    "    return root;\n",
    "};"
   ]
  }
 ],
 "metadata": {
  "kernelspec": {
   "display_name": "Python 3",
   "language": "python",
   "name": "python3"
  },
  "language_info": {
   "codemirror_mode": {
    "name": "ipython",
    "version": 3
   },
   "file_extension": ".py",
   "mimetype": "text/x-python",
   "name": "python",
   "nbconvert_exporter": "python",
   "pygments_lexer": "ipython3",
   "version": "3.7.2"
  },
  "toc": {
   "base_numbering": 1,
   "nav_menu": {},
   "number_sections": true,
   "sideBar": true,
   "skip_h1_title": false,
   "title_cell": "Table of Contents",
   "title_sidebar": "Contents",
   "toc_cell": false,
   "toc_position": {},
   "toc_section_display": true,
   "toc_window_display": false
  },
  "varInspector": {
   "cols": {
    "lenName": 16,
    "lenType": 16,
    "lenVar": 40
   },
   "kernels_config": {
    "python": {
     "delete_cmd_postfix": "",
     "delete_cmd_prefix": "del ",
     "library": "var_list.py",
     "varRefreshCmd": "print(var_dic_list())"
    },
    "r": {
     "delete_cmd_postfix": ") ",
     "delete_cmd_prefix": "rm(",
     "library": "var_list.r",
     "varRefreshCmd": "cat(var_dic_list()) "
    }
   },
   "types_to_exclude": [
    "module",
    "function",
    "builtin_function_or_method",
    "instance",
    "_Feature"
   ],
   "window_display": false
  }
 },
 "nbformat": 4,
 "nbformat_minor": 2
}
